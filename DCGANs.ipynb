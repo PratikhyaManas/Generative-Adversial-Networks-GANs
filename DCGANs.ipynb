{
  "nbformat": 4,
  "nbformat_minor": 0,
  "metadata": {
    "colab": {
      "name": "DCGANs.ipynb",
      "provenance": [],
      "authorship_tag": "ABX9TyPtUIOPcE/fChUCHX+Ca6x/",
      "include_colab_link": true
    },
    "kernelspec": {
      "name": "python3",
      "display_name": "Python 3"
    },
    "accelerator": "GPU"
  },
  "cells": [
    {
      "cell_type": "markdown",
      "metadata": {
        "id": "view-in-github",
        "colab_type": "text"
      },
      "source": [
        "<a href=\"https://colab.research.google.com/github/PratikhyaManas/Generative-Adversial-Networks-GANs/blob/master/DCGANs.ipynb\" target=\"_parent\"><img src=\"https://colab.research.google.com/assets/colab-badge.svg\" alt=\"Open In Colab\"/></a>"
      ]
    },
    {
      "cell_type": "markdown",
      "metadata": {
        "id": "72vHzirG4cXz",
        "colab_type": "text"
      },
      "source": [
        "# In this notebook we will use DCGANs to create realistic images. We will be using the below data sources for the implementation\n",
        "\n",
        "[Kaggle Faces Data New](https://www.kaggle.com/gasgallo/faces-data-new) "
      ]
    },
    {
      "cell_type": "markdown",
      "metadata": {
        "id": "lvJyt8U86Jto",
        "colab_type": "text"
      },
      "source": [
        "# Mounting the Google drive"
      ]
    },
    {
      "cell_type": "code",
      "metadata": {
        "id": "UuGbjwbJ4YOw",
        "colab_type": "code",
        "outputId": "8423e5e6-cd30-4c9d-da5f-452a0ff6dc86",
        "colab": {
          "base_uri": "https://localhost:8080/",
          "height": 138
        }
      },
      "source": [
        "try:\n",
        "    from google.colab import drive\n",
        "    drive.mount('/content/drive', force_remount=True)\n",
        "    COLAB = True\n",
        "    print(\"Note: using Google CoLab\")\n",
        "    %tensorflow_version 2.x\n",
        "except:\n",
        "    print(\"Note: not using Google CoLab\")\n",
        "    COLAB = False"
      ],
      "execution_count": 0,
      "outputs": [
        {
          "output_type": "stream",
          "text": [
            "Go to this URL in a browser: https://accounts.google.com/o/oauth2/auth?client_id=947318989803-6bn6qk8qdgf4n4g3pfee6491hc0brc4i.apps.googleusercontent.com&redirect_uri=urn%3aietf%3awg%3aoauth%3a2.0%3aoob&response_type=code&scope=email%20https%3a%2f%2fwww.googleapis.com%2fauth%2fdocs.test%20https%3a%2f%2fwww.googleapis.com%2fauth%2fdrive%20https%3a%2f%2fwww.googleapis.com%2fauth%2fdrive.photos.readonly%20https%3a%2f%2fwww.googleapis.com%2fauth%2fpeopleapi.readonly\n",
            "\n",
            "Enter your authorization code:\n",
            "··········\n",
            "Mounted at /content/drive\n",
            "Note: using Google CoLab\n"
          ],
          "name": "stdout"
        }
      ]
    },
    {
      "cell_type": "code",
      "metadata": {
        "id": "kRBINnzzxNlq",
        "colab_type": "code",
        "colab": {}
      },
      "source": [
        "# Time Formatted String\n",
        "def hms_string(sec_elapsed):\n",
        "    h = int(sec_elapsed / (60 * 60))\n",
        "    m = int((sec_elapsed % (60 * 60)) / 60)\n",
        "    s = sec_elapsed % 60\n",
        "    return \"{}:{:>02}:{:>05.2f}\".format(h, m, s)"
      ],
      "execution_count": 0,
      "outputs": []
    },
    {
      "cell_type": "markdown",
      "metadata": {
        "id": "XJ7P8qCf6ik9",
        "colab_type": "text"
      },
      "source": [
        "# Importing the necessary packages for GAN"
      ]
    },
    {
      "cell_type": "code",
      "metadata": {
        "id": "_QU-yR4a6UIz",
        "colab_type": "code",
        "colab": {}
      },
      "source": [
        "import tensorflow as tf\n",
        "from tensorflow.keras.layers import Input, Reshape, Dropout, Dense, Flatten, BatchNormalization, Activation, ZeroPadding2D\n",
        "from tensorflow.keras.layers import LeakyReLU\n",
        "from tensorflow.keras.layers import UpSampling2D, Conv2D\n",
        "from tensorflow.keras.models import Sequential, Model, load_model\n",
        "from tensorflow.keras.optimizers import Adam\n",
        "import numpy as np\n",
        "from PIL import Image\n",
        "from tqdm import tqdm\n",
        "import os \n",
        "import time\n",
        "import matplotlib.pyplot as plt"
      ],
      "execution_count": 0,
      "outputs": []
    },
    {
      "cell_type": "markdown",
      "metadata": {
        "id": "LpQ9kc3c8eiK",
        "colab_type": "text"
      },
      "source": [
        "# Importing the Datasets\n"
      ]
    },
    {
      "cell_type": "code",
      "metadata": {
        "id": "fWEeMDWY6sfD",
        "colab_type": "code",
        "outputId": "3e530d50-7bc6-4ecb-af3c-641e7afe8e38",
        "colab": {
          "base_uri": "https://localhost:8080/",
          "height": 34
        }
      },
      "source": [
        "# Generation resolution - Must be square \n",
        "# Training data is also scaled to this.\n",
        "# Note GENERATE_RES 4 or higher  will blow Google CoLab's memory and have not\n",
        "# been tested extensivly.\n",
        "GENERATE_RES = 3 # Generation resolution factor (1=32, 2=64, 3=96, 4=128, etc.)\n",
        "GENERATE_SQUARE = 32 * GENERATE_RES # rows/cols (should be square)\n",
        "IMAGE_CHANNELS = 3\n",
        "\n",
        "# Preview image \n",
        "PREVIEW_ROWS = 4\n",
        "PREVIEW_COLS = 7\n",
        "PREVIEW_MARGIN = 16\n",
        "\n",
        "# Size vector to generate images from\n",
        "SEED_SIZE = 100\n",
        "\n",
        "# Configuration\n",
        "DATA_PATH = '/content/drive/My Drive/ML_Datasets/images'\n",
        "EPOCHS = 50\n",
        "BATCH_SIZE = 32\n",
        "BUFFER_SIZE = 60000\n",
        "\n",
        "print(f\"Will generate {GENERATE_SQUARE}px square images.\")"
      ],
      "execution_count": 0,
      "outputs": [
        {
          "output_type": "stream",
          "text": [
            "Will generate 96px square images.\n"
          ],
          "name": "stdout"
        }
      ]
    },
    {
      "cell_type": "markdown",
      "metadata": {
        "id": "aqGLbf5TEJDE",
        "colab_type": "text"
      },
      "source": [
        "#Preprocess the Image Dataset"
      ]
    },
    {
      "cell_type": "code",
      "metadata": {
        "id": "IHqCiiQdEOQN",
        "colab_type": "code",
        "outputId": "49442178-e738-47c4-969c-5d91527e5143",
        "colab": {
          "base_uri": "https://localhost:8080/",
          "height": 50
        }
      },
      "source": [
        "# Image set has 7864 images.  Can take over an hour for initial preprocessing.\n",
        "# Because of this time needed, save a Numpy preprocessed file.\n",
        "# Note, that file is large enough to cause problems for sume verisons of Pickle,\n",
        "# so Numpy binary files are used.\n",
        "training_binary_path = os.path.join(DATA_PATH,f'training_data_{GENERATE_SQUARE}_{GENERATE_SQUARE}.npy')\n",
        "\n",
        "print(f\"Looking for file: {training_binary_path}\")\n",
        "\n",
        "if not os.path.isfile(training_binary_path):\n",
        "  start = time.time()\n",
        "  print(\"Loading training images...\")\n",
        "\n",
        "  training_data = []\n",
        "  faces_path = os.path.join(DATA_PATH,'images')\n",
        "  for filename in tqdm(os.listdir(faces_path)):\n",
        "      path = os.path.join(faces_path,filename)\n",
        "      image = Image.open(path).resize((GENERATE_SQUARE,GENERATE_SQUARE),Image.ANTIALIAS)\n",
        "      training_data.append(np.asarray(image))\n",
        "  training_data = np.reshape(training_data,(-1,GENERATE_SQUARE,GENERATE_SQUARE,IMAGE_CHANNELS))\n",
        "  training_data = training_data.astype(np.float32)\n",
        "  training_data = training_data / 127.5 - 1.\n",
        "\n",
        "\n",
        "  print(\"Saving training image binary...\")\n",
        "  np.save(training_binary_path,training_data)\n",
        "  elapsed = time.time()-start\n",
        "  print (f'Image preprocess time: {hms_string(elapsed)}')\n",
        "else:\n",
        "  print(\"Loading previous training pickle...\")\n",
        "  training_data = np.load(training_binary_path)"
      ],
      "execution_count": 0,
      "outputs": [
        {
          "output_type": "stream",
          "text": [
            "Looking for file: /content/drive/My Drive/ML_Datasets/images/training_data_96_96.npy\n",
            "Loading previous training pickle...\n"
          ],
          "name": "stdout"
        }
      ]
    },
    {
      "cell_type": "markdown",
      "metadata": {
        "id": "NgT0p-9ZGd_6",
        "colab_type": "text"
      },
      "source": [
        "# Shuffle the Data\n"
      ]
    },
    {
      "cell_type": "code",
      "metadata": {
        "id": "CgpbrjgtGoqK",
        "colab_type": "code",
        "colab": {}
      },
      "source": [
        "train_dataset = tf.data.Dataset.from_tensor_slices(training_data).shuffle(BUFFER_SIZE).batch(BATCH_SIZE)"
      ],
      "execution_count": 0,
      "outputs": []
    },
    {
      "cell_type": "markdown",
      "metadata": {
        "id": "Z2s1G7mdGrCM",
        "colab_type": "text"
      },
      "source": [
        "# Building the Generator"
      ]
    },
    {
      "cell_type": "code",
      "metadata": {
        "id": "GqsH2obhGqOA",
        "colab_type": "code",
        "colab": {}
      },
      "source": [
        "def build_generator(seed_size, channels):\n",
        "    model = Sequential()\n",
        "\n",
        "    model.add(Dense(4*4*256,activation=\"relu\",input_dim=seed_size))\n",
        "    model.add(Reshape((4,4,256)))\n",
        "\n",
        "    model.add(UpSampling2D())\n",
        "    model.add(Conv2D(256,kernel_size=3,padding=\"same\"))\n",
        "    model.add(BatchNormalization(momentum=0.8))\n",
        "    model.add(Activation(\"relu\"))\n",
        "\n",
        "    model.add(UpSampling2D())\n",
        "    model.add(Conv2D(256,kernel_size=3,padding=\"same\"))\n",
        "    model.add(BatchNormalization(momentum=0.8))\n",
        "    model.add(Activation(\"relu\"))\n",
        "   \n",
        "    # Output resolution, additional upsampling\n",
        "    model.add(UpSampling2D())\n",
        "    model.add(Conv2D(128,kernel_size=3,padding=\"same\"))\n",
        "    model.add(BatchNormalization(momentum=0.8))\n",
        "    model.add(Activation(\"relu\"))\n",
        "\n",
        "    if GENERATE_RES>1:\n",
        "      model.add(UpSampling2D(size=(GENERATE_RES,GENERATE_RES)))\n",
        "      model.add(Conv2D(128,kernel_size=3,padding=\"same\"))\n",
        "      model.add(BatchNormalization(momentum=0.8))\n",
        "      model.add(Activation(\"relu\"))\n",
        "\n",
        "    # Final CNN layer\n",
        "    model.add(Conv2D(channels,kernel_size=3,padding=\"same\"))\n",
        "    model.add(Activation(\"tanh\"))\n",
        "\n",
        "    return model"
      ],
      "execution_count": 0,
      "outputs": []
    },
    {
      "cell_type": "markdown",
      "metadata": {
        "id": "oGLY5UVbG4q9",
        "colab_type": "text"
      },
      "source": [
        "# Building The Discriminator"
      ]
    },
    {
      "cell_type": "code",
      "metadata": {
        "id": "GMETOydJG8vM",
        "colab_type": "code",
        "colab": {}
      },
      "source": [
        "def build_discriminator(image_shape):\n",
        "    model = Sequential()\n",
        "\n",
        "    model.add(Conv2D(32, kernel_size=3, strides=2, input_shape=image_shape, padding=\"same\"))\n",
        "    model.add(LeakyReLU(alpha=0.2))\n",
        "\n",
        "    model.add(Dropout(0.25))\n",
        "    model.add(Conv2D(64, kernel_size=3, strides=2, padding=\"same\"))\n",
        "    model.add(ZeroPadding2D(padding=((0,1),(0,1))))\n",
        "    model.add(BatchNormalization(momentum=0.8))\n",
        "    model.add(LeakyReLU(alpha=0.2))\n",
        "\n",
        "    model.add(Dropout(0.25))\n",
        "    model.add(Conv2D(128, kernel_size=3, strides=2, padding=\"same\"))\n",
        "    model.add(BatchNormalization(momentum=0.8))\n",
        "    model.add(LeakyReLU(alpha=0.2))\n",
        "\n",
        "    model.add(Dropout(0.25))\n",
        "    model.add(Conv2D(256, kernel_size=3, strides=1, padding=\"same\"))\n",
        "    model.add(BatchNormalization(momentum=0.8))\n",
        "    model.add(LeakyReLU(alpha=0.2))\n",
        "\n",
        "    model.add(Dropout(0.25))\n",
        "    model.add(Conv2D(512, kernel_size=3, strides=1, padding=\"same\"))\n",
        "    model.add(BatchNormalization(momentum=0.8))\n",
        "    model.add(LeakyReLU(alpha=0.2))\n",
        "\n",
        "    model.add(Dropout(0.25))\n",
        "    model.add(Flatten())\n",
        "    model.add(Dense(1, activation='sigmoid'))\n",
        "\n",
        "    return model"
      ],
      "execution_count": 0,
      "outputs": []
    },
    {
      "cell_type": "code",
      "metadata": {
        "id": "Om-xsamTHXrd",
        "colab_type": "code",
        "colab": {}
      },
      "source": [
        "#As we progress through training images will be produced to show the progress. \n",
        "#These images will contain a number of rendered faces that show how good the \n",
        "#generator has become.\n",
        "def save_images(cnt,noise):\n",
        "  image_array = np.full(( \n",
        "      PREVIEW_MARGIN + (PREVIEW_ROWS * (GENERATE_SQUARE+PREVIEW_MARGIN)), \n",
        "      PREVIEW_MARGIN + (PREVIEW_COLS * (GENERATE_SQUARE+PREVIEW_MARGIN)), 3), \n",
        "      255, dtype=np.uint8)\n",
        "  \n",
        "  generated_images = generator.predict(noise)\n",
        "\n",
        "  generated_images = 0.5 * generated_images + 0.5\n",
        "\n",
        "  image_count = 0\n",
        "  for row in range(PREVIEW_ROWS):\n",
        "      for col in range(PREVIEW_COLS):\n",
        "        r = row * (GENERATE_SQUARE+16) + PREVIEW_MARGIN\n",
        "        c = col * (GENERATE_SQUARE+16) + PREVIEW_MARGIN\n",
        "        image_array[r:r+GENERATE_SQUARE,c:c+GENERATE_SQUARE] = generated_images[image_count] * 255\n",
        "        image_count += 1\n",
        "\n",
        "          \n",
        "  output_path = os.path.join(DATA_PATH,'output')\n",
        "  if not os.path.exists(output_path):\n",
        "    os.makedirs(output_path)\n",
        "  \n",
        "  filename = os.path.join(output_path,f\"train-{cnt}.png\")\n",
        "  im = Image.fromarray(image_array)\n",
        "  im.save(filename)"
      ],
      "execution_count": 0,
      "outputs": []
    },
    {
      "cell_type": "code",
      "metadata": {
        "id": "xb-Nt02VHous",
        "colab_type": "code",
        "outputId": "fff2de0c-1409-4e8a-dfde-dccba80576da",
        "colab": {
          "base_uri": "https://localhost:8080/",
          "height": 285
        }
      },
      "source": [
        "generator = build_generator(SEED_SIZE, IMAGE_CHANNELS)\n",
        "\n",
        "noise = tf.random.normal([1, SEED_SIZE])\n",
        "generated_image = generator(noise, training=False)\n",
        "\n",
        "plt.imshow(generated_image[0, :, :, 0])"
      ],
      "execution_count": 0,
      "outputs": [
        {
          "output_type": "execute_result",
          "data": {
            "text/plain": [
              "<matplotlib.image.AxesImage at 0x7f127004fa90>"
            ]
          },
          "metadata": {
            "tags": []
          },
          "execution_count": 12
        },
        {
          "output_type": "display_data",
          "data": {
            "image/png": "[encoded data removed]",
            "text/plain": [
              "<Figure size 432x288 with 1 Axes>"
            ]
          },
          "metadata": {
            "tags": []
          }
        }
      ]
    },
    {
      "cell_type": "code",
      "metadata": {
        "id": "0sq1ZgB8HuJ9",
        "colab_type": "code",
        "outputId": "ec4925a9-9dd6-4158-d2af-399659c890f5",
        "colab": {
          "base_uri": "https://localhost:8080/",
          "height": 34
        }
      },
      "source": [
        "image_shape = (GENERATE_SQUARE,GENERATE_SQUARE,IMAGE_CHANNELS)\n",
        "\n",
        "discriminator = build_discriminator(image_shape)\n",
        "decision = discriminator(generated_image)\n",
        "print (decision)"
      ],
      "execution_count": 0,
      "outputs": [
        {
          "output_type": "stream",
          "text": [
            "tf.Tensor([[0.49983555]], shape=(1, 1), dtype=float32)\n"
          ],
          "name": "stdout"
        }
      ]
    },
    {
      "cell_type": "markdown",
      "metadata": {
        "id": "4hzxP24EIHro",
        "colab_type": "text"
      },
      "source": [
        "# Creating Loss Function"
      ]
    },
    {
      "cell_type": "markdown",
      "metadata": {
        "id": "I31EUoFoH6UM",
        "colab_type": "text"
      },
      "source": [
        "Loss functions must be developed that allow the generator and discriminator to be trained in an adversarial way. Because these two neural networks are being trained independently they must be trained in two separate passes. This requires two separate loss functions and also two separate updates to the gradients. When the discriminator's gradients are applied to decrease the discriminator's loss it is important that only the discriminator's weights are update. It is not fair, nor will it produce good results, to adversarially damage the weights of the generator to help the discriminator. A simple backpropagation would do this. It would simultaneously affect the weights of both generator and discriminator to lower whatever loss it was assigned to lower."
      ]
    },
    {
      "cell_type": "code",
      "metadata": {
        "id": "0FinZD3dH9Cb",
        "colab_type": "code",
        "colab": {}
      },
      "source": [
        "\n",
        "# This method returns a helper function to compute cross entropy loss\n",
        "cross_entropy = tf.keras.losses.BinaryCrossentropy(from_logits=True)\n",
        "\n",
        "def discriminator_loss(real_output, fake_output):\n",
        "    real_loss = cross_entropy(tf.ones_like(real_output), real_output)\n",
        "    fake_loss = cross_entropy(tf.zeros_like(fake_output), fake_output)\n",
        "    total_loss = real_loss + fake_loss\n",
        "    return total_loss\n",
        "\n",
        "def generator_loss(fake_output):\n",
        "    return cross_entropy(tf.ones_like(fake_output), fake_output)"
      ],
      "execution_count": 0,
      "outputs": []
    },
    {
      "cell_type": "markdown",
      "metadata": {
        "id": "x3pFEuwSIRcq",
        "colab_type": "text"
      },
      "source": [
        "#Hyperparameter Tuning"
      ]
    },
    {
      "cell_type": "code",
      "metadata": {
        "id": "Meejs6h9IRyU",
        "colab_type": "code",
        "colab": {}
      },
      "source": [
        "generator_optimizer = tf.keras.optimizers.Adam(1.5e-4,0.5)\n",
        "discriminator_optimizer = tf.keras.optimizers.Adam(1.5e-4,0.5)"
      ],
      "execution_count": 0,
      "outputs": []
    },
    {
      "cell_type": "markdown",
      "metadata": {
        "id": "oqHD34DoI5Kc",
        "colab_type": "text"
      },
      "source": [
        "The following function is where most of the training takes place for both the discriminator and the generator. This function was based on the GAN provided by the [TensorFlow Keras exmples](https://www.tensorflow.org/tutorials/generative/dcgan) documentation. The first thing you should notice about this function is that it is annotated with the tf.function annotation. This causes the function to be precompiled and improves performance.\n",
        "\n",
        "This function trans differently than the code we previously saw for training. This code makes use of GradientTape to allow the discriminator and generator to be trained together, yet separately."
      ]
    },
    {
      "cell_type": "code",
      "metadata": {
        "id": "XMM0n6_MIf4b",
        "colab_type": "code",
        "colab": {}
      },
      "source": [
        "# Notice the use of `tf.function`\n",
        "# This annotation causes the function to be \"compiled\".\n",
        "@tf.function\n",
        "def train_step(images):\n",
        "  seed = tf.random.normal([BATCH_SIZE, SEED_SIZE])\n",
        "\n",
        "  with tf.GradientTape() as gen_tape, tf.GradientTape() as disc_tape:\n",
        "    generated_images = generator(seed, training=True)\n",
        "\n",
        "    real_output = discriminator(images, training=True)\n",
        "    fake_output = discriminator(generated_images, training=True)\n",
        "\n",
        "    gen_loss = generator_loss(fake_output)\n",
        "    disc_loss = discriminator_loss(real_output, fake_output)\n",
        "    \n",
        "\n",
        "    gradients_of_generator = gen_tape.gradient(gen_loss, generator.trainable_variables)\n",
        "    gradients_of_discriminator = disc_tape.gradient(disc_loss, discriminator.trainable_variables)\n",
        "\n",
        "    generator_optimizer.apply_gradients(zip(gradients_of_generator, generator.trainable_variables))\n",
        "    discriminator_optimizer.apply_gradients(zip(gradients_of_discriminator, discriminator.trainable_variables))\n",
        "  return gen_loss,disc_loss"
      ],
      "execution_count": 0,
      "outputs": []
    },
    {
      "cell_type": "code",
      "metadata": {
        "id": "whRvWePrJZmT",
        "colab_type": "code",
        "colab": {}
      },
      "source": [
        "def train(dataset, epochs):\n",
        "  fixed_seed = np.random.normal(0, 1, (PREVIEW_ROWS * PREVIEW_COLS, SEED_SIZE))\n",
        "  start = time.time()\n",
        "\n",
        "  for epoch in range(epochs):\n",
        "    epoch_start = time.time()\n",
        "\n",
        "    gen_loss_list = []\n",
        "    disc_loss_list = []\n",
        "\n",
        "    for image_batch in dataset:\n",
        "      t = train_step(image_batch)\n",
        "      gen_loss_list.append(t[0])\n",
        "      disc_loss_list.append(t[1])\n",
        "\n",
        "    g_loss = sum(gen_loss_list) / len(gen_loss_list)\n",
        "    d_loss = sum(disc_loss_list) / len(disc_loss_list)\n",
        "\n",
        "    epoch_elapsed = time.time()-epoch_start\n",
        "    print (f'Epoch {epoch+1}, gen loss={g_loss},disc loss={d_loss}, {hms_string(epoch_elapsed)}')\n",
        "    save_images(epoch,fixed_seed)\n",
        "\n",
        "  elapsed = time.time()-start\n",
        "  print (f'Training time: {hms_string(elapsed)}')"
      ],
      "execution_count": 0,
      "outputs": []
    },
    {
      "cell_type": "code",
      "metadata": {
        "id": "Vh5ygASGJdBD",
        "colab_type": "code",
        "outputId": "fecfa159-ad2a-4b87-b05c-62abbb376c4b",
        "colab": {
          "base_uri": "https://localhost:8080/",
          "height": 874
        }
      },
      "source": [
        "train(train_dataset, EPOCHS)"
      ],
      "execution_count": 0,
      "outputs": [
        {
          "output_type": "stream",
          "text": [
            "Epoch 1, gen loss=0.6243106722831726,disc loss=1.1701037883758545, 0:00:06.43\n",
            "Epoch 2, gen loss=0.6772017478942871,disc loss=1.0607353448867798, 0:00:01.34\n",
            "Epoch 3, gen loss=0.6756769418716431,disc loss=1.0618221759796143, 0:00:01.33\n",
            "Epoch 4, gen loss=0.671507716178894,disc loss=1.0626202821731567, 0:00:01.32\n",
            "Epoch 5, gen loss=0.6734586954116821,disc loss=1.0638983249664307, 0:00:01.32\n",
            "Epoch 6, gen loss=0.6770257949829102,disc loss=1.0612573623657227, 0:00:01.33\n",
            "Epoch 7, gen loss=0.6699210405349731,disc loss=1.0846912860870361, 0:00:01.33\n",
            "Epoch 8, gen loss=0.6697360873222351,disc loss=1.0785211324691772, 0:00:01.33\n",
            "Epoch 9, gen loss=0.6706306338310242,disc loss=1.0662949085235596, 0:00:01.32\n",
            "Epoch 10, gen loss=0.6708135008811951,disc loss=1.0856506824493408, 0:00:01.33\n",
            "Epoch 11, gen loss=0.6712986826896667,disc loss=1.084249496459961, 0:00:01.34\n",
            "Epoch 12, gen loss=0.6678026914596558,disc loss=1.0805995464324951, 0:00:01.32\n",
            "Epoch 13, gen loss=0.6699259281158447,disc loss=1.0963265895843506, 0:00:01.33\n",
            "Epoch 14, gen loss=0.6748188734054565,disc loss=1.068151593208313, 0:00:01.33\n",
            "Epoch 15, gen loss=0.6719921827316284,disc loss=1.088761806488037, 0:00:01.34\n",
            "Epoch 16, gen loss=0.6592848896980286,disc loss=1.1041195392608643, 0:00:01.33\n",
            "Epoch 17, gen loss=0.6713556051254272,disc loss=1.0795834064483643, 0:00:01.34\n",
            "Epoch 18, gen loss=0.6731845140457153,disc loss=1.0716009140014648, 0:00:01.33\n",
            "Epoch 19, gen loss=0.6766788959503174,disc loss=1.071616768836975, 0:00:01.33\n",
            "Epoch 20, gen loss=0.6621006727218628,disc loss=1.091788649559021, 0:00:01.33\n",
            "Epoch 21, gen loss=0.6721089482307434,disc loss=1.1030423641204834, 0:00:01.37\n",
            "Epoch 22, gen loss=0.6748319268226624,disc loss=1.0682471990585327, 0:00:01.33\n",
            "Epoch 23, gen loss=0.6798175573348999,disc loss=1.0584782361984253, 0:00:01.33\n",
            "Epoch 24, gen loss=0.6802579164505005,disc loss=1.0542099475860596, 0:00:01.33\n",
            "Epoch 25, gen loss=0.6726098656654358,disc loss=1.0764471292495728, 0:00:01.34\n",
            "Epoch 26, gen loss=0.67896568775177,disc loss=1.052167296409607, 0:00:01.34\n",
            "Epoch 27, gen loss=0.6804752349853516,disc loss=1.0538877248764038, 0:00:01.33\n",
            "Epoch 28, gen loss=0.6811735033988953,disc loss=1.0541489124298096, 0:00:01.33\n",
            "Epoch 29, gen loss=0.6813153028488159,disc loss=1.0469465255737305, 0:00:01.33\n",
            "Epoch 30, gen loss=0.6825998425483704,disc loss=1.0512341260910034, 0:00:01.35\n",
            "Epoch 31, gen loss=0.6864091753959656,disc loss=1.0360418558120728, 0:00:01.37\n",
            "Epoch 32, gen loss=0.6834989786148071,disc loss=1.043701410293579, 0:00:01.34\n",
            "Epoch 33, gen loss=0.6840015053749084,disc loss=1.0550798177719116, 0:00:01.34\n",
            "Epoch 34, gen loss=0.6841748952865601,disc loss=1.0528709888458252, 0:00:01.34\n",
            "Epoch 35, gen loss=0.6789549589157104,disc loss=1.0527870655059814, 0:00:01.33\n",
            "Epoch 36, gen loss=0.6862762570381165,disc loss=1.0418968200683594, 0:00:01.35\n",
            "Epoch 37, gen loss=0.6804298758506775,disc loss=1.0654842853546143, 0:00:01.34\n",
            "Epoch 38, gen loss=0.6830337047576904,disc loss=1.0501558780670166, 0:00:01.35\n",
            "Epoch 39, gen loss=0.6879188418388367,disc loss=1.0351513624191284, 0:00:01.35\n",
            "Epoch 40, gen loss=0.6887557506561279,disc loss=1.0340567827224731, 0:00:01.34\n",
            "Epoch 41, gen loss=0.6841186881065369,disc loss=1.0429027080535889, 0:00:01.33\n",
            "Epoch 42, gen loss=0.6831817626953125,disc loss=1.0473806858062744, 0:00:01.34\n",
            "Epoch 43, gen loss=0.6856445074081421,disc loss=1.0396816730499268, 0:00:01.33\n",
            "Epoch 44, gen loss=0.6874678730964661,disc loss=1.038651704788208, 0:00:01.33\n",
            "Epoch 45, gen loss=0.6859018206596375,disc loss=1.038155198097229, 0:00:01.34\n",
            "Epoch 46, gen loss=0.6866347789764404,disc loss=1.0351502895355225, 0:00:01.35\n",
            "Epoch 47, gen loss=0.6869283318519592,disc loss=1.0469977855682373, 0:00:01.34\n",
            "Epoch 48, gen loss=0.687903106212616,disc loss=1.0341356992721558, 0:00:01.34\n",
            "Epoch 49, gen loss=0.6841613054275513,disc loss=1.0405247211456299, 0:00:01.33\n",
            "Epoch 50, gen loss=0.686901330947876,disc loss=1.037680983543396, 0:00:01.36\n",
            "Training time: 0:01:25.37\n"
          ],
          "name": "stdout"
        }
      ]
    },
    {
      "cell_type": "code",
      "metadata": {
        "id": "Ri7szMG0JgBD",
        "colab_type": "code",
        "colab": {}
      },
      "source": [
        "generator.save(os.path.join(DATA_PATH,\"face_generator.h5\"))"
      ],
      "execution_count": 0,
      "outputs": []
    },
    {
      "cell_type": "markdown",
      "metadata": {
        "id": "yAqclG1H1gDq",
        "colab_type": "text"
      },
      "source": [
        "# References\n",
        "\n"
      ]
    },
    {
      "cell_type": "markdown",
      "metadata": {
        "id": "UJq-DPkr1m7b",
        "colab_type": "text"
      },
      "source": [
        "For Implementing this I referred the following articles.\n",
        "\n",
        "1. [Deep Convolutional Generative Adversarial Network](https://www.tensorflow.org/tutorials/generative/dcgan) \n",
        "\n",
        "2. [Keras implementations of Generative Adversarial Networks](https://github.com/eriklindernoren/Keras-GAN)\n"
      ]
    },
    {
      "cell_type": "code",
      "metadata": {
        "id": "WL5lTfDtx-rz",
        "colab_type": "code",
        "colab": {}
      },
      "source": [
        ""
      ],
      "execution_count": 0,
      "outputs": []
    }
  ]
}